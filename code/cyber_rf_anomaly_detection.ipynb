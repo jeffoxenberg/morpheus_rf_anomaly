{
 "cells": [
  {
   "cell_type": "code",
   "execution_count": 1,
   "id": "2a1cdafa-387d-4a2e-85f3-5bb3059958de",
   "metadata": {},
   "outputs": [],
   "source": [
    "# https://rfchallenge.mit.edu/challenge-3/"
   ]
  },
  {
   "cell_type": "code",
   "execution_count": 2,
   "id": "106b5ce1-03b4-4c63-8914-be10ac1f0077",
   "metadata": {
    "tags": []
   },
   "outputs": [
    {
     "name": "stdout",
     "output_type": "stream",
     "text": [
      "--2023-05-22 22:06:35--  https://rfchallenge.mit.edu/wp-content/uploads/2021/07/Cyber-RF_Anomaly_Detector_Challenge_Dataset_TrainingSet_80.csv\n",
      "Resolving rfchallenge.mit.edu (rfchallenge.mit.edu)... 18.25.16.5\n",
      "Connecting to rfchallenge.mit.edu (rfchallenge.mit.edu)|18.25.16.5|:443... connected.\n",
      "HTTP request sent, awaiting response... 200 OK\n",
      "Length: 363402 (355K) [text/csv]\n",
      "Saving to: ‘Cyber-RF_Anomaly_Detector_Challenge_Dataset_TrainingSet_80.csv.1’\n",
      "\n",
      "Cyber-RF_Anomaly_De 100%[===================>] 354.88K  --.-KB/s    in 0.09s   \n",
      "\n",
      "2023-05-22 22:06:35 (3.93 MB/s) - ‘Cyber-RF_Anomaly_Detector_Challenge_Dataset_TrainingSet_80.csv.1’ saved [363402/363402]\n",
      "\n"
     ]
    }
   ],
   "source": [
    "!wget https://rfchallenge.mit.edu/wp-content/uploads/2021/07/Cyber-RF_Anomaly_Detector_Challenge_Dataset_TrainingSet_80.csv"
   ]
  },
  {
   "cell_type": "code",
   "execution_count": 1,
   "id": "9b095b7b-6173-4721-8485-14977df4131c",
   "metadata": {
    "tags": []
   },
   "outputs": [],
   "source": [
    "import base64\n",
    "import json\n",
    "\n",
    "from kafka import KafkaProducer\n",
    "import pandas as pd\n",
    "from sklearn.metrics import confusion_matrix, ConfusionMatrixDisplay\n",
    "from sklearn.model_selection import train_test_split\n",
    "import tritonclient.http as httpclient\n",
    "import xgboost as xgb"
   ]
  },
  {
   "cell_type": "markdown",
   "id": "075a407d-701e-4b13-93be-9011c5648bf8",
   "metadata": {},
   "source": [
    "Load data"
   ]
  },
  {
   "cell_type": "code",
   "execution_count": 2,
   "id": "2b6f329f-f31b-4317-a93d-5527f2b912ea",
   "metadata": {
    "tags": []
   },
   "outputs": [],
   "source": [
    "df = pd.read_csv('Cyber-RF_Anomaly_Detector_Challenge_Dataset_TrainingSet_80.csv')"
   ]
  },
  {
   "cell_type": "code",
   "execution_count": 3,
   "id": "9dbef314-4be2-4fbf-a934-cc15cc9c356a",
   "metadata": {
    "tags": []
   },
   "outputs": [
    {
     "data": {
      "text/html": [
       "<div>\n",
       "<style scoped>\n",
       "    .dataframe tbody tr th:only-of-type {\n",
       "        vertical-align: middle;\n",
       "    }\n",
       "\n",
       "    .dataframe tbody tr th {\n",
       "        vertical-align: top;\n",
       "    }\n",
       "\n",
       "    .dataframe thead th {\n",
       "        text-align: right;\n",
       "    }\n",
       "</style>\n",
       "<table border=\"1\" class=\"dataframe\">\n",
       "  <thead>\n",
       "    <tr style=\"text-align: right;\">\n",
       "      <th></th>\n",
       "      <th>Amp_min</th>\n",
       "      <th>Amp_max</th>\n",
       "      <th>Amp_var</th>\n",
       "      <th>Amp_skew</th>\n",
       "      <th>Amp_rango</th>\n",
       "      <th>Amp_Kurtosis</th>\n",
       "      <th>Amp_entropy</th>\n",
       "      <th>Phase_min</th>\n",
       "      <th>Phase_var</th>\n",
       "      <th>Phase_skew</th>\n",
       "      <th>...</th>\n",
       "      <th>numPktSent_avg</th>\n",
       "      <th>NoBytesSnt_avg</th>\n",
       "      <th>minPktSize_min</th>\n",
       "      <th>maxPktSize_max</th>\n",
       "      <th>avgPktSz_avg</th>\n",
       "      <th>pktps_avg</th>\n",
       "      <th>bytps_avg</th>\n",
       "      <th>maxIAT_max</th>\n",
       "      <th>avgIAT_avg</th>\n",
       "      <th>Class</th>\n",
       "    </tr>\n",
       "  </thead>\n",
       "  <tbody>\n",
       "    <tr>\n",
       "      <th>0</th>\n",
       "      <td>0.002581</td>\n",
       "      <td>0.690256</td>\n",
       "      <td>0.001211</td>\n",
       "      <td>15.12232</td>\n",
       "      <td>0.690256</td>\n",
       "      <td>240.0694</td>\n",
       "      <td>0.074172</td>\n",
       "      <td>0.090118</td>\n",
       "      <td>3.381202</td>\n",
       "      <td>0.038622</td>\n",
       "      <td>...</td>\n",
       "      <td>112</td>\n",
       "      <td>5615.0</td>\n",
       "      <td>17</td>\n",
       "      <td>51</td>\n",
       "      <td>50.13393</td>\n",
       "      <td>1.003314</td>\n",
       "      <td>50.30009</td>\n",
       "      <td>1.671043</td>\n",
       "      <td>0.996696</td>\n",
       "      <td>anomalous</td>\n",
       "    </tr>\n",
       "    <tr>\n",
       "      <th>1</th>\n",
       "      <td>0.003153</td>\n",
       "      <td>0.848947</td>\n",
       "      <td>0.001835</td>\n",
       "      <td>14.98176</td>\n",
       "      <td>0.848947</td>\n",
       "      <td>234.9678</td>\n",
       "      <td>0.074256</td>\n",
       "      <td>0.100556</td>\n",
       "      <td>3.374530</td>\n",
       "      <td>0.028128</td>\n",
       "      <td>...</td>\n",
       "      <td>113</td>\n",
       "      <td>5698.0</td>\n",
       "      <td>49</td>\n",
       "      <td>51</td>\n",
       "      <td>50.42478</td>\n",
       "      <td>1.012288</td>\n",
       "      <td>51.04442</td>\n",
       "      <td>1.669502</td>\n",
       "      <td>0.987861</td>\n",
       "      <td>anomalous</td>\n",
       "    </tr>\n",
       "    <tr>\n",
       "      <th>2</th>\n",
       "      <td>0.002031</td>\n",
       "      <td>0.410564</td>\n",
       "      <td>0.000674</td>\n",
       "      <td>13.88586</td>\n",
       "      <td>0.410564</td>\n",
       "      <td>194.0342</td>\n",
       "      <td>0.071829</td>\n",
       "      <td>0.094839</td>\n",
       "      <td>3.399020</td>\n",
       "      <td>0.033839</td>\n",
       "      <td>...</td>\n",
       "      <td>113</td>\n",
       "      <td>5766.0</td>\n",
       "      <td>50</td>\n",
       "      <td>52</td>\n",
       "      <td>51.02655</td>\n",
       "      <td>1.008791</td>\n",
       "      <td>51.47511</td>\n",
       "      <td>1.004366</td>\n",
       "      <td>0.991286</td>\n",
       "      <td>normal</td>\n",
       "    </tr>\n",
       "    <tr>\n",
       "      <th>3</th>\n",
       "      <td>0.003371</td>\n",
       "      <td>1.206924</td>\n",
       "      <td>0.002163</td>\n",
       "      <td>15.24407</td>\n",
       "      <td>1.206924</td>\n",
       "      <td>246.8864</td>\n",
       "      <td>0.069905</td>\n",
       "      <td>-0.083725</td>\n",
       "      <td>4.067368</td>\n",
       "      <td>0.188521</td>\n",
       "      <td>...</td>\n",
       "      <td>113</td>\n",
       "      <td>5709.0</td>\n",
       "      <td>49</td>\n",
       "      <td>51</td>\n",
       "      <td>50.52213</td>\n",
       "      <td>1.011909</td>\n",
       "      <td>51.12378</td>\n",
       "      <td>1.431243</td>\n",
       "      <td>0.988232</td>\n",
       "      <td>anomalous</td>\n",
       "    </tr>\n",
       "    <tr>\n",
       "      <th>4</th>\n",
       "      <td>0.002116</td>\n",
       "      <td>0.425429</td>\n",
       "      <td>0.000730</td>\n",
       "      <td>13.87303</td>\n",
       "      <td>0.425429</td>\n",
       "      <td>193.6966</td>\n",
       "      <td>0.072375</td>\n",
       "      <td>-0.204406</td>\n",
       "      <td>3.801740</td>\n",
       "      <td>0.313063</td>\n",
       "      <td>...</td>\n",
       "      <td>113</td>\n",
       "      <td>5766.0</td>\n",
       "      <td>50</td>\n",
       "      <td>52</td>\n",
       "      <td>51.02655</td>\n",
       "      <td>1.008784</td>\n",
       "      <td>51.47479</td>\n",
       "      <td>1.006097</td>\n",
       "      <td>0.991292</td>\n",
       "      <td>normal</td>\n",
       "    </tr>\n",
       "  </tbody>\n",
       "</table>\n",
       "<p>5 rows × 53 columns</p>\n",
       "</div>"
      ],
      "text/plain": [
       "    Amp_min   Amp_max   Amp_var  Amp_skew  Amp_rango  Amp_Kurtosis  \\\n",
       "0  0.002581  0.690256  0.001211  15.12232   0.690256      240.0694   \n",
       "1  0.003153  0.848947  0.001835  14.98176   0.848947      234.9678   \n",
       "2  0.002031  0.410564  0.000674  13.88586   0.410564      194.0342   \n",
       "3  0.003371  1.206924  0.002163  15.24407   1.206924      246.8864   \n",
       "4  0.002116  0.425429  0.000730  13.87303   0.425429      193.6966   \n",
       "\n",
       "   Amp_entropy  Phase_min  Phase_var  Phase_skew  ...  numPktSent_avg  \\\n",
       "0     0.074172   0.090118   3.381202    0.038622  ...             112   \n",
       "1     0.074256   0.100556   3.374530    0.028128  ...             113   \n",
       "2     0.071829   0.094839   3.399020    0.033839  ...             113   \n",
       "3     0.069905  -0.083725   4.067368    0.188521  ...             113   \n",
       "4     0.072375  -0.204406   3.801740    0.313063  ...             113   \n",
       "\n",
       "   NoBytesSnt_avg  minPktSize_min  maxPktSize_max  avgPktSz_avg  pktps_avg  \\\n",
       "0          5615.0              17              51      50.13393   1.003314   \n",
       "1          5698.0              49              51      50.42478   1.012288   \n",
       "2          5766.0              50              52      51.02655   1.008791   \n",
       "3          5709.0              49              51      50.52213   1.011909   \n",
       "4          5766.0              50              52      51.02655   1.008784   \n",
       "\n",
       "   bytps_avg  maxIAT_max  avgIAT_avg      Class  \n",
       "0   50.30009    1.671043    0.996696  anomalous  \n",
       "1   51.04442    1.669502    0.987861  anomalous  \n",
       "2   51.47511    1.004366    0.991286     normal  \n",
       "3   51.12378    1.431243    0.988232  anomalous  \n",
       "4   51.47479    1.006097    0.991292     normal  \n",
       "\n",
       "[5 rows x 53 columns]"
      ]
     },
     "execution_count": 3,
     "metadata": {},
     "output_type": "execute_result"
    }
   ],
   "source": [
    "df.head()"
   ]
  },
  {
   "cell_type": "code",
   "execution_count": 4,
   "id": "d1de84fa-2939-4a66-b044-7a1490458074",
   "metadata": {
    "tags": []
   },
   "outputs": [
    {
     "data": {
      "text/plain": [
       "anomalous    381\n",
       "normal       349\n",
       "Name: Class, dtype: int64"
      ]
     },
     "execution_count": 4,
     "metadata": {},
     "output_type": "execute_result"
    }
   ],
   "source": [
    "df.Class.value_counts()"
   ]
  },
  {
   "cell_type": "code",
   "execution_count": 5,
   "id": "a897ce83-960d-4887-b1a2-92d4c3246e7c",
   "metadata": {
    "tags": []
   },
   "outputs": [
    {
     "data": {
      "text/plain": [
       "False"
      ]
     },
     "execution_count": 5,
     "metadata": {},
     "output_type": "execute_result"
    }
   ],
   "source": [
    "df.isnull().values.any()"
   ]
  },
  {
   "cell_type": "code",
   "execution_count": 6,
   "id": "0e66e313-ac55-4ca4-a331-729ad257bd9b",
   "metadata": {
    "tags": []
   },
   "outputs": [],
   "source": [
    "y = df.pop('Class')\n",
    "y = y.map({'normal': 0, 'anomalous': 1})"
   ]
  },
  {
   "cell_type": "markdown",
   "id": "bed765b3-a147-4f75-9735-b5e16adc923f",
   "metadata": {},
   "source": [
    "Train model"
   ]
  },
  {
   "cell_type": "code",
   "execution_count": 7,
   "id": "28754034-606f-4358-88b4-25c6c362871e",
   "metadata": {
    "tags": []
   },
   "outputs": [],
   "source": [
    "X_train, X_test, y_train, y_test = train_test_split(df, y, test_size=.2, random_state=42)"
   ]
  },
  {
   "cell_type": "code",
   "execution_count": 8,
   "id": "9ef55730-9e4e-41f3-a850-bf96f5c300ae",
   "metadata": {
    "tags": []
   },
   "outputs": [],
   "source": [
    "model = xgb.XGBClassifier(\n",
    "    tree_method='gpu_hist',\n",
    "    predictor='gpu_predictor',\n",
    "    eval_metric='aucpr',\n",
    "    objective='binary:logistic',\n",
    "    max_depth=500,\n",
    "    n_estimators=50\n",
    "    )"
   ]
  },
  {
   "cell_type": "code",
   "execution_count": 9,
   "id": "57e384a9-ffb5-4939-b94a-08d0859ddff7",
   "metadata": {
    "tags": []
   },
   "outputs": [
    {
     "name": "stdout",
     "output_type": "stream",
     "text": [
      "[0]\tvalidation_0-aucpr:1.00000\n",
      "[1]\tvalidation_0-aucpr:1.00000\n",
      "[2]\tvalidation_0-aucpr:1.00000\n",
      "[3]\tvalidation_0-aucpr:1.00000\n",
      "[4]\tvalidation_0-aucpr:1.00000\n",
      "[5]\tvalidation_0-aucpr:1.00000\n",
      "[6]\tvalidation_0-aucpr:1.00000\n",
      "[7]\tvalidation_0-aucpr:1.00000\n",
      "[8]\tvalidation_0-aucpr:1.00000\n",
      "[9]\tvalidation_0-aucpr:1.00000\n",
      "[10]\tvalidation_0-aucpr:1.00000\n",
      "[11]\tvalidation_0-aucpr:1.00000\n",
      "[12]\tvalidation_0-aucpr:1.00000\n",
      "[13]\tvalidation_0-aucpr:1.00000\n",
      "[14]\tvalidation_0-aucpr:1.00000\n",
      "[15]\tvalidation_0-aucpr:1.00000\n",
      "[16]\tvalidation_0-aucpr:1.00000\n",
      "[17]\tvalidation_0-aucpr:1.00000\n",
      "[18]\tvalidation_0-aucpr:1.00000\n",
      "[19]\tvalidation_0-aucpr:1.00000\n",
      "[20]\tvalidation_0-aucpr:1.00000\n",
      "[21]\tvalidation_0-aucpr:1.00000\n",
      "[22]\tvalidation_0-aucpr:1.00000\n",
      "[23]\tvalidation_0-aucpr:1.00000\n",
      "[24]\tvalidation_0-aucpr:1.00000\n",
      "[25]\tvalidation_0-aucpr:1.00000\n",
      "[26]\tvalidation_0-aucpr:1.00000\n",
      "[27]\tvalidation_0-aucpr:1.00000\n",
      "[28]\tvalidation_0-aucpr:1.00000\n",
      "[29]\tvalidation_0-aucpr:1.00000\n",
      "[30]\tvalidation_0-aucpr:1.00000\n",
      "[31]\tvalidation_0-aucpr:1.00000\n",
      "[32]\tvalidation_0-aucpr:1.00000\n",
      "[33]\tvalidation_0-aucpr:1.00000\n",
      "[34]\tvalidation_0-aucpr:1.00000\n",
      "[35]\tvalidation_0-aucpr:1.00000\n",
      "[36]\tvalidation_0-aucpr:1.00000\n",
      "[37]\tvalidation_0-aucpr:1.00000\n",
      "[38]\tvalidation_0-aucpr:1.00000\n",
      "[39]\tvalidation_0-aucpr:1.00000\n",
      "[40]\tvalidation_0-aucpr:1.00000\n",
      "[41]\tvalidation_0-aucpr:1.00000\n",
      "[42]\tvalidation_0-aucpr:1.00000\n",
      "[43]\tvalidation_0-aucpr:1.00000\n",
      "[44]\tvalidation_0-aucpr:1.00000\n",
      "[45]\tvalidation_0-aucpr:1.00000\n",
      "[46]\tvalidation_0-aucpr:1.00000\n",
      "[47]\tvalidation_0-aucpr:1.00000\n",
      "[48]\tvalidation_0-aucpr:1.00000\n",
      "[49]\tvalidation_0-aucpr:1.00000\n"
     ]
    },
    {
     "data": {
      "text/html": [
       "<style>#sk-container-id-1 {color: black;background-color: white;}#sk-container-id-1 pre{padding: 0;}#sk-container-id-1 div.sk-toggleable {background-color: white;}#sk-container-id-1 label.sk-toggleable__label {cursor: pointer;display: block;width: 100%;margin-bottom: 0;padding: 0.3em;box-sizing: border-box;text-align: center;}#sk-container-id-1 label.sk-toggleable__label-arrow:before {content: \"▸\";float: left;margin-right: 0.25em;color: #696969;}#sk-container-id-1 label.sk-toggleable__label-arrow:hover:before {color: black;}#sk-container-id-1 div.sk-estimator:hover label.sk-toggleable__label-arrow:before {color: black;}#sk-container-id-1 div.sk-toggleable__content {max-height: 0;max-width: 0;overflow: hidden;text-align: left;background-color: #f0f8ff;}#sk-container-id-1 div.sk-toggleable__content pre {margin: 0.2em;color: black;border-radius: 0.25em;background-color: #f0f8ff;}#sk-container-id-1 input.sk-toggleable__control:checked~div.sk-toggleable__content {max-height: 200px;max-width: 100%;overflow: auto;}#sk-container-id-1 input.sk-toggleable__control:checked~label.sk-toggleable__label-arrow:before {content: \"▾\";}#sk-container-id-1 div.sk-estimator input.sk-toggleable__control:checked~label.sk-toggleable__label {background-color: #d4ebff;}#sk-container-id-1 div.sk-label input.sk-toggleable__control:checked~label.sk-toggleable__label {background-color: #d4ebff;}#sk-container-id-1 input.sk-hidden--visually {border: 0;clip: rect(1px 1px 1px 1px);clip: rect(1px, 1px, 1px, 1px);height: 1px;margin: -1px;overflow: hidden;padding: 0;position: absolute;width: 1px;}#sk-container-id-1 div.sk-estimator {font-family: monospace;background-color: #f0f8ff;border: 1px dotted black;border-radius: 0.25em;box-sizing: border-box;margin-bottom: 0.5em;}#sk-container-id-1 div.sk-estimator:hover {background-color: #d4ebff;}#sk-container-id-1 div.sk-parallel-item::after {content: \"\";width: 100%;border-bottom: 1px solid gray;flex-grow: 1;}#sk-container-id-1 div.sk-label:hover label.sk-toggleable__label {background-color: #d4ebff;}#sk-container-id-1 div.sk-serial::before {content: \"\";position: absolute;border-left: 1px solid gray;box-sizing: border-box;top: 0;bottom: 0;left: 50%;z-index: 0;}#sk-container-id-1 div.sk-serial {display: flex;flex-direction: column;align-items: center;background-color: white;padding-right: 0.2em;padding-left: 0.2em;position: relative;}#sk-container-id-1 div.sk-item {position: relative;z-index: 1;}#sk-container-id-1 div.sk-parallel {display: flex;align-items: stretch;justify-content: center;background-color: white;position: relative;}#sk-container-id-1 div.sk-item::before, #sk-container-id-1 div.sk-parallel-item::before {content: \"\";position: absolute;border-left: 1px solid gray;box-sizing: border-box;top: 0;bottom: 0;left: 50%;z-index: -1;}#sk-container-id-1 div.sk-parallel-item {display: flex;flex-direction: column;z-index: 1;position: relative;background-color: white;}#sk-container-id-1 div.sk-parallel-item:first-child::after {align-self: flex-end;width: 50%;}#sk-container-id-1 div.sk-parallel-item:last-child::after {align-self: flex-start;width: 50%;}#sk-container-id-1 div.sk-parallel-item:only-child::after {width: 0;}#sk-container-id-1 div.sk-dashed-wrapped {border: 1px dashed gray;margin: 0 0.4em 0.5em 0.4em;box-sizing: border-box;padding-bottom: 0.4em;background-color: white;}#sk-container-id-1 div.sk-label label {font-family: monospace;font-weight: bold;display: inline-block;line-height: 1.2em;}#sk-container-id-1 div.sk-label-container {text-align: center;}#sk-container-id-1 div.sk-container {/* jupyter's `normalize.less` sets `[hidden] { display: none; }` but bootstrap.min.css set `[hidden] { display: none !important; }` so we also need the `!important` here to be able to override the default hidden behavior on the sphinx rendered scikit-learn.org. See: https://github.com/scikit-learn/scikit-learn/issues/21755 */display: inline-block !important;position: relative;}#sk-container-id-1 div.sk-text-repr-fallback {display: none;}</style><div id=\"sk-container-id-1\" class=\"sk-top-container\"><div class=\"sk-text-repr-fallback\"><pre>XGBClassifier(base_score=None, booster=None, callbacks=None,\n",
       "              colsample_bylevel=None, colsample_bynode=None,\n",
       "              colsample_bytree=None, early_stopping_rounds=None,\n",
       "              enable_categorical=False, eval_metric=&#x27;aucpr&#x27;, feature_types=None,\n",
       "              gamma=None, gpu_id=None, grow_policy=None, importance_type=None,\n",
       "              interaction_constraints=None, learning_rate=None, max_bin=None,\n",
       "              max_cat_threshold=None, max_cat_to_onehot=None,\n",
       "              max_delta_step=None, max_depth=500, max_leaves=None,\n",
       "              min_child_weight=None, missing=nan, monotone_constraints=None,\n",
       "              n_estimators=50, n_jobs=None, num_parallel_tree=None,\n",
       "              predictor=&#x27;gpu_predictor&#x27;, random_state=None, ...)</pre><b>In a Jupyter environment, please rerun this cell to show the HTML representation or trust the notebook. <br />On GitHub, the HTML representation is unable to render, please try loading this page with nbviewer.org.</b></div><div class=\"sk-container\" hidden><div class=\"sk-item\"><div class=\"sk-estimator sk-toggleable\"><input class=\"sk-toggleable__control sk-hidden--visually\" id=\"sk-estimator-id-1\" type=\"checkbox\" checked><label for=\"sk-estimator-id-1\" class=\"sk-toggleable__label sk-toggleable__label-arrow\">XGBClassifier</label><div class=\"sk-toggleable__content\"><pre>XGBClassifier(base_score=None, booster=None, callbacks=None,\n",
       "              colsample_bylevel=None, colsample_bynode=None,\n",
       "              colsample_bytree=None, early_stopping_rounds=None,\n",
       "              enable_categorical=False, eval_metric=&#x27;aucpr&#x27;, feature_types=None,\n",
       "              gamma=None, gpu_id=None, grow_policy=None, importance_type=None,\n",
       "              interaction_constraints=None, learning_rate=None, max_bin=None,\n",
       "              max_cat_threshold=None, max_cat_to_onehot=None,\n",
       "              max_delta_step=None, max_depth=500, max_leaves=None,\n",
       "              min_child_weight=None, missing=nan, monotone_constraints=None,\n",
       "              n_estimators=50, n_jobs=None, num_parallel_tree=None,\n",
       "              predictor=&#x27;gpu_predictor&#x27;, random_state=None, ...)</pre></div></div></div></div></div>"
      ],
      "text/plain": [
       "XGBClassifier(base_score=None, booster=None, callbacks=None,\n",
       "              colsample_bylevel=None, colsample_bynode=None,\n",
       "              colsample_bytree=None, early_stopping_rounds=None,\n",
       "              enable_categorical=False, eval_metric='aucpr', feature_types=None,\n",
       "              gamma=None, gpu_id=None, grow_policy=None, importance_type=None,\n",
       "              interaction_constraints=None, learning_rate=None, max_bin=None,\n",
       "              max_cat_threshold=None, max_cat_to_onehot=None,\n",
       "              max_delta_step=None, max_depth=500, max_leaves=None,\n",
       "              min_child_weight=None, missing=nan, monotone_constraints=None,\n",
       "              n_estimators=50, n_jobs=None, num_parallel_tree=None,\n",
       "              predictor='gpu_predictor', random_state=None, ...)"
      ]
     },
     "execution_count": 9,
     "metadata": {},
     "output_type": "execute_result"
    }
   ],
   "source": [
    "model.fit(X_train, y_train, eval_set=[(X_test, y_test)])"
   ]
  },
  {
   "cell_type": "code",
   "execution_count": 10,
   "id": "437fbabf-f88d-4f29-a43d-af8bb932c504",
   "metadata": {
    "tags": []
   },
   "outputs": [],
   "source": [
    "y_pred = model.predict(X_test)"
   ]
  },
  {
   "cell_type": "code",
   "execution_count": 11,
   "id": "ccd04fd2-b603-4fcd-85bf-f15882a1b021",
   "metadata": {
    "tags": []
   },
   "outputs": [],
   "source": [
    "d = ConfusionMatrixDisplay(confusion_matrix(y_test, y_pred))"
   ]
  },
  {
   "cell_type": "code",
   "execution_count": 12,
   "id": "035f479f-9ed5-45a5-a7b1-56742f5303c3",
   "metadata": {
    "tags": []
   },
   "outputs": [
    {
     "data": {
      "text/plain": [
       "<sklearn.metrics._plot.confusion_matrix.ConfusionMatrixDisplay at 0x7fc018faed70>"
      ]
     },
     "execution_count": 12,
     "metadata": {},
     "output_type": "execute_result"
    },
    {
     "data": {
      "image/png": "[encoded data removed]",
      "text/plain": [
       "<Figure size 640x480 with 2 Axes>"
      ]
     },
     "metadata": {},
     "output_type": "display_data"
    }
   ],
   "source": [
    "d.plot()"
   ]
  },
  {
   "cell_type": "markdown",
   "id": "f9b4858f-4aaa-4016-a5e1-3f4829fc7cc4",
   "metadata": {},
   "source": [
    "Create triton config"
   ]
  },
  {
   "cell_type": "markdown",
   "id": "acf489b9-9fc6-47d0-898f-cedf1afdd00b",
   "metadata": {
    "tags": []
   },
   "source": [
    "MAX_MEMORY_BYTES = 60_000_000\n",
    "features = X_test.shape[1]\n",
    "num_classes = pd.unique(y_test).size\n",
    "bytes_per_sample = (features + num_classes) * 4\n",
    "max_batch_size = MAX_MEMORY_BYTES // bytes_per_sample"
   ]
  },
  {
   "cell_type": "markdown",
   "id": "f0808f6f-87a6-46ec-817b-bd6f7d93d767",
   "metadata": {
    "tags": []
   },
   "source": [
    "import requests\n",
    "r = requests.get('http://triton:8000/v2/models/small_model/versions/1/config')"
   ]
  },
  {
   "cell_type": "markdown",
   "id": "a1f80055-60ca-45bc-9175-188d1d493bf2",
   "metadata": {
    "tags": []
   },
   "source": [
    "r.content"
   ]
  },
  {
   "cell_type": "markdown",
   "id": "8e6e0286-a562-4213-ad38-264ebf11e0a0",
   "metadata": {
    "tags": []
   },
   "source": [
    "def generate_config(encoded_model, deployment_type='gpu', storage_type='AUTO'):\n",
    "    if deployment_type.lower() == 'cpu':\n",
    "        instance_kind = 'KIND_CPU'\n",
    "    else:\n",
    "        instance_kind = 'KIND_GPU'\n",
    "\n",
    "    config_text = f\"\"\"backend: \"fil\"\n",
    "max_batch_size: {max_batch_size}\n",
    "input [                                 \n",
    " {{  \n",
    "    name: \"input__0\"\n",
    "    data_type: TYPE_FP32\n",
    "    dims: [ {features} ]                    \n",
    "  }} \n",
    "]\n",
    "output [\n",
    " {{\n",
    "    name: \"output__0\"\n",
    "    data_type: TYPE_FP32\n",
    "    dims: [ {num_classes} ]\n",
    "  }}\n",
    "]\n",
    "instance_group [{{ kind: {instance_kind} }}]\n",
    "parameters [\n",
    "  {{\n",
    "    key: \"model_type\"\n",
    "    value: {{ string_value: \"xgboost_json\" }}\n",
    "  }},\n",
    "  {{\n",
    "    key: \"predict_proba\"\n",
    "    value: {{ string_value: \"true\" }}\n",
    "  }},\n",
    "  {{\n",
    "    key: \"output_class\"\n",
    "    value: {{ string_value: \"true\" }}\n",
    "  }},\n",
    "  {{\n",
    "    key: \"threshold\"\n",
    "    value: {{ string_value: \"0.5\" }}\n",
    "  }},\n",
    "  {{\n",
    "    key: \"storage_type\"\n",
    "    value: {{ string_value: \"{storage_type}\" }}\n",
    "  }},\n",
    "  {{\n",
    "    key: \"file:1/model.json\"\n",
    "    value: {{ string_value: \"{encoded_model}\" }}\n",
    "  }}\n",
    "]\n",
    "\n",
    "dynamic_batching {{\n",
    "  max_queue_delay_microseconds: 100\n",
    "}}\"\"\"\n",
    "    return config_text"
   ]
  },
  {
   "cell_type": "markdown",
   "id": "e51fbd1e-c294-4360-ba28-410c8daf680c",
   "metadata": {
    "tags": []
   },
   "source": [
    "def generate_config(encoded_model, instance_kind='KIND_GPU'):\n",
    "    data = {\n",
    "    \t\"name\": \"rf_anomaly\",\n",
    "    \t\"platform\": \"\",\n",
    "    \t\"backend\": \"fil\",\n",
    "    \t\"version_policy\": {\n",
    "    \t\t\"latest\": {\n",
    "    \t\t\t\"num_versions\": 1\n",
    "    \t\t}\n",
    "    \t},\n",
    "    \t\"max_batch_size\": str(max_batch_size),\n",
    "    \t\"input\": [{\n",
    "    \t\t\"name\": \"input__0\",\n",
    "    \t\t\"data_type\": \"TYPE_FP32\",\n",
    "    \t\t\"format\": \"FORMAT_NONE\",\n",
    "    \t\t\"dims\": [str(features)],\n",
    "    \t\t\"is_shape_tensor\": \"false\",\n",
    "    \t\t\"allow_ragged_batch\": \"false\",\n",
    "    \t\t\"optional\": \"false\"\n",
    "    \t}],\n",
    "    \t\"output\": [{\n",
    "    \t\t\"name\": \"output__0\",\n",
    "    \t\t\"data_type\": \"TYPE_FP32\",\n",
    "    \t\t\"dims\": [str(num_classes)],\n",
    "    \t\t\"label_filename\": \"\",\n",
    "    \t\t\"is_shape_tensor\": \"false\"\n",
    "    \t}],\n",
    "    \t\"batch_input\": [],\n",
    "    \t\"batch_output\": [],\n",
    "    \t\"optimization\": {\n",
    "    \t\t\"priority\": \"PRIORITY_DEFAULT\",\n",
    "    \t\t\"input_pinned_memory\": {\n",
    "    \t\t\t\"enable\": \"true\"\n",
    "    \t\t},\n",
    "    \t\t\"output_pinned_memory\": {\n",
    "    \t\t\t\"enable\": \"true\"\n",
    "    \t\t},\n",
    "    \t\t\"gather_kernel_buffer_threshold\": 0,\n",
    "    \t\t\"eager_batching\": \"false\"\n",
    "    \t},\n",
    "    \t\"dynamic_batching\": {\n",
    "    \t\t\"preferred_batch_size\": [str(max_batch_size)],\n",
    "    \t\t\"max_queue_delay_microseconds\": 100,\n",
    "    \t\t\"preserve_ordering\": \"false\",\n",
    "    \t\t\"priority_levels\": 0,\n",
    "    \t\t\"default_priority_level\": 0,\n",
    "    \t\t\"priority_queue_policy\": {}\n",
    "    \t},\n",
    "    \t\"instance_group\": [{\n",
    "    \t\t\"name\": \"rf_anomaly_0\",\n",
    "    \t\t\"kind\": str(instance_kind),\n",
    "    \t\t\"count\": 1,\n",
    "    \t\t\"gpus\": [0],\n",
    "    \t\t\"secondary_devices\": [],\n",
    "    \t\t\"profile\": [],\n",
    "    \t\t\"passive\": \"false\",\n",
    "    \t\t\"host_policy\": \"\"\n",
    "    \t}],\n",
    "    \t\"parameters\": {\n",
    "    \t\t\"output_class\": {\n",
    "    \t\t\t\"string_value\": \"true\"\n",
    "    \t\t},\n",
    "    \t\t\"storage_type\": {\n",
    "    \t\t\t\"string_value\": \"AUTO\"\n",
    "    \t\t},\n",
    "    \t\t\"threshold\": {\n",
    "    \t\t\t\"string_value\": \"0.5\"\n",
    "    \t\t},\n",
    "    \t\t\"model_type\": {\n",
    "    \t\t\t\"string_value\": \"xgboost_json\"\n",
    "    \t\t},\n",
    "    \t\t\"predict_proba\": {\n",
    "    \t\t\t\"string_value\": \"true\"\n",
    "    \t\t}\n",
    "    \t},\n",
    "    \t\"model_warmup\": []\n",
    "    }\n",
    "    \n",
    "    return data"
   ]
  },
  {
   "cell_type": "markdown",
   "id": "83926d15-3929-440d-a877-fdd32c761a8e",
   "metadata": {},
   "source": [
    "Export model"
   ]
  },
  {
   "cell_type": "markdown",
   "id": "6cf89236-de5d-44ef-a160-bd9c14915013",
   "metadata": {
    "tags": []
   },
   "source": [
    "model.save_model('model.json')\n",
    "with open('model.json') as m:\n",
    "    contents = m.read()\n",
    "    encoded_model = base64.b64encode(contents.encode('utf-8'))"
   ]
  },
  {
   "cell_type": "markdown",
   "id": "bb32b8e2-c584-48f2-a1d1-a29a95edb1b4",
   "metadata": {
    "tags": []
   },
   "source": [
    "import os\n",
    "REPO_PATH = os.path.abspath('/models')"
   ]
  },
  {
   "cell_type": "markdown",
   "id": "31eebc98-b1c2-4bf6-b947-af71c644f98f",
   "metadata": {
    "tags": []
   },
   "source": [
    "def serialize_model(model, model_name):\n",
    "    # The name of the model directory determines the name of the model as reported\n",
    "    # by Triton\n",
    "    model_dir = os.path.join(REPO_PATH, model_name)\n",
    "    # We can store multiple versions of the model in the same directory. In our\n",
    "    # case, we have just one version, so we will add a single directory, named '1'.\n",
    "    version_dir = os.path.join(model_dir, '1')\n",
    "    os.makedirs(version_dir, exist_ok=True)\n",
    "    \n",
    "    # The default filename for XGBoost models saved in json format is 'xgboost.json'.\n",
    "    # It is recommended that you use this filename to avoid having to specify a\n",
    "    # name in the configuration file.\n",
    "    model_file = os.path.join(version_dir, 'xgboost.json')\n",
    "    model.save_model(model_file)\n",
    "    \n",
    "    return model_dir"
   ]
  },
  {
   "cell_type": "markdown",
   "id": "86a2e17f-8f28-4561-b01e-0ce08a1d0a0e",
   "metadata": {
    "tags": []
   },
   "source": [
    "serialize_model(model, 'rf_anomaly')"
   ]
  },
  {
   "cell_type": "markdown",
   "id": "b6942005-208a-4969-9fd7-56126194e99b",
   "metadata": {
    "tags": []
   },
   "source": [
    "config_text = generate_config(encoded_model)"
   ]
  },
  {
   "cell_type": "code",
   "execution_count": 13,
   "id": "83d0ece4-ac9c-453a-966c-9db11b5f7682",
   "metadata": {
    "tags": []
   },
   "outputs": [],
   "source": [
    "triton_client = httpclient.InferenceServerClient(url='triton:8000')"
   ]
  },
  {
   "cell_type": "code",
   "execution_count": 38,
   "id": "c1b03636-cce4-4700-a8b8-7511921383a3",
   "metadata": {
    "tags": []
   },
   "outputs": [
    {
     "data": {
      "text/plain": [
       "True"
      ]
     },
     "execution_count": 38,
     "metadata": {},
     "output_type": "execute_result"
    }
   ],
   "source": [
    "triton_client.is_server_ready()"
   ]
  },
  {
   "cell_type": "code",
   "execution_count": 39,
   "id": "d86ac7e7-c881-4d1f-aa0b-a5b9e1d2a212",
   "metadata": {
    "tags": []
   },
   "outputs": [
    {
     "data": {
      "text/plain": [
       "True"
      ]
     },
     "execution_count": 39,
     "metadata": {},
     "output_type": "execute_result"
    }
   ],
   "source": [
    "triton_client.is_model_ready('rf_anomaly')"
   ]
  },
  {
   "cell_type": "markdown",
   "id": "66a4fc66-3b2f-4c6f-a472-35e0d098fb8a",
   "metadata": {},
   "source": [
    "Hot load model with JSON config"
   ]
  },
  {
   "cell_type": "markdown",
   "id": "ea4f3e50-dadd-437f-b848-af51632742c0",
   "metadata": {
    "tags": []
   },
   "source": [
    "triton_client.load_model('rf_anomaly', config=json.dumps(config_text))"
   ]
  },
  {
   "cell_type": "markdown",
   "id": "1086798d-e4c1-4980-8395-9dbd2725afe0",
   "metadata": {},
   "source": [
    "Inference"
   ]
  },
  {
   "cell_type": "code",
   "execution_count": 40,
   "id": "25cfad29-f4e0-4f07-af33-b4a9efa53fec",
   "metadata": {
    "tags": []
   },
   "outputs": [],
   "source": [
    "def triton_predict(model_name, arr):\n",
    "    triton_input = httpclient.InferInput('input__0', arr.shape, 'FP32')\n",
    "    triton_input.set_data_from_numpy(arr)\n",
    "    triton_output = httpclient.InferRequestedOutput('output__0', class_count=1)\n",
    "    response = triton_client.infer(model_name, model_version='1', inputs=[triton_input], outputs=[triton_output])\n",
    "    return response.as_numpy('output__0')"
   ]
  },
  {
   "cell_type": "code",
   "execution_count": 47,
   "id": "10607ffd-a0b0-448b-a114-01e330c19ac0",
   "metadata": {
    "tags": []
   },
   "outputs": [],
   "source": [
    "triton_result = triton_predict('rf_anomaly', df.loc[0:5].to_numpy().astype('float32'))"
   ]
  },
  {
   "cell_type": "code",
   "execution_count": 48,
   "id": "16a269fd-b320-4a86-9567-9a924b91aca1",
   "metadata": {
    "tags": []
   },
   "outputs": [
    {
     "name": "stdout",
     "output_type": "stream",
     "text": [
      "[[b'0.996987:1:anomalous']\n",
      " [b'0.996987:1:anomalous']\n",
      " [b'0.996882:0:normal\\r']\n",
      " [b'0.996987:1:anomalous']\n",
      " [b'0.996882:0:normal\\r']\n",
      " [b'0.996882:0:normal\\r']]\n"
     ]
    }
   ],
   "source": [
    "print(triton_result)"
   ]
  },
  {
   "cell_type": "markdown",
   "id": "7df61ef9-10e9-44a0-bef9-c87ec23074f1",
   "metadata": {},
   "source": [
    "Get protobuf file, persist model config"
   ]
  },
  {
   "cell_type": "markdown",
   "id": "a58e9984-9dc5-44cd-bda8-b6e7de98eca5",
   "metadata": {
    "tags": []
   },
   "source": [
    "import tritonclient.grpc as grpcclient\n",
    "triton_client = grpcclient.InferenceServerClient(url='triton:8001')\n",
    "model_config = triton_client.get_model_config(model_name='rf_anomaly', model_version='1')"
   ]
  },
  {
   "cell_type": "markdown",
   "id": "9f536d8b-5422-4c0b-baa5-083cf8e33b21",
   "metadata": {
    "tags": []
   },
   "source": [
    "with open('/models/rf_anomaly/config.pbtxt', 'w') as f:\n",
    "    f.write(str(model_config)[9:-2])"
   ]
  },
  {
   "cell_type": "markdown",
   "id": "59b0fa4d-8084-4fc7-80f5-a6312491d7da",
   "metadata": {},
   "source": [
    "Kafka"
   ]
  },
  {
   "cell_type": "code",
   "execution_count": 29,
   "id": "4cd06f29-e877-4602-839c-36cace8ef00e",
   "metadata": {
    "tags": []
   },
   "outputs": [
    {
     "name": "stdout",
     "output_type": "stream",
     "text": [
      "Requirement already satisfied: kafka-python in /opt/conda/lib/python3.10/site-packages (2.0.2)\n"
     ]
    }
   ],
   "source": [
    "!pip install kafka-python"
   ]
  },
  {
   "cell_type": "code",
   "execution_count": 30,
   "id": "aa2ce938-c8be-44f2-8100-05f362f3a5a8",
   "metadata": {
    "tags": []
   },
   "outputs": [],
   "source": [
    "import numpy as np"
   ]
  },
  {
   "cell_type": "markdown",
   "id": "7b5e7b0b-e6c3-4714-967d-3b9a8c51ac70",
   "metadata": {
    "tags": []
   },
   "source": [
    "colnames = df.columns\n",
    "df[colnames[::-1]]"
   ]
  },
  {
   "cell_type": "code",
   "execution_count": 80,
   "id": "18126c98-8e19-40e9-9835-3d204cf3f8d2",
   "metadata": {},
   "outputs": [
    {
     "name": "stdout",
     "output_type": "stream",
     "text": [
      "Triton: [[b'0.996882:0:normal\\r']]\n",
      "Triton: [[b'0.996882:0:normal\\r']]\n",
      "Triton: [[b'0.996882:0:normal\\r']]\n",
      "Triton: [[b'0.996882:0:normal\\r']]\n",
      "Triton: [[b'0.996882:0:normal\\r']]\n",
      "Triton: [[b'0.996882:0:normal\\r']]\n"
     ]
    }
   ],
   "source": [
    "producer = KafkaProducer(bootstrap_servers='kafka:9092')\n",
    "num_records = 5\n",
    "subset = df.loc[0:num_records]\n",
    "for x in range(num_records+1):\n",
    "    # send to morpheus\n",
    "    producer.send('in', bytes(df.reset_index().loc[x].to_json(), 'utf-8'))\n",
    "    # send to triton directly\n",
    "    print(f\"Triton: {triton_predict('rf_anomaly', np.expand_dims(df.loc[x].to_numpy().astype('float32'), 0))}\")\n",
    "    # local inference\n",
    "    print(f\"Local: {model.predict(df.loc[[x]])}\")"
   ]
  },
  {
   "cell_type": "code",
   "execution_count": null,
   "id": "728111da-1e5f-4ad0-81ae-b5b3b8f344f0",
   "metadata": {},
   "outputs": [],
   "source": []
  }
 ],
 "metadata": {
  "kernelspec": {
   "display_name": "Python 3 (ipykernel)",
   "language": "python",
   "name": "python3"
  },
  "language_info": {
   "codemirror_mode": {
    "name": "ipython",
    "version": 3
   },
   "file_extension": ".py",
   "mimetype": "text/x-python",
   "name": "python",
   "nbconvert_exporter": "python",
   "pygments_lexer": "ipython3",
   "version": "3.10.11"
  }
 },
 "nbformat": 4,
 "nbformat_minor": 5
}
